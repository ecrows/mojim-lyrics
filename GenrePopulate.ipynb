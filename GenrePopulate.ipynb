{
 "cells": [
  {
   "cell_type": "code",
   "execution_count": 36,
   "id": "11ba1086-db35-4aee-9943-e58799f3ad4c",
   "metadata": {},
   "outputs": [],
   "source": [
    "import pandas as pd\n",
    "import requests\n",
    "import json"
   ]
  },
  {
   "cell_type": "code",
   "execution_count": 46,
   "id": "4cd40db1-c8f8-4ae3-84c7-76f594684e04",
   "metadata": {},
   "outputs": [],
   "source": [
    "songs = pd.read_json(\"top_song_lyrics_cleaned_cn.jsonl\", lines=True)"
   ]
  },
  {
   "cell_type": "code",
   "execution_count": 53,
   "id": "61f73d12-e68e-4507-b711-9de4f3a760ba",
   "metadata": {},
   "outputs": [
    {
     "data": {
      "text/plain": [
       "14406854"
      ]
     },
     "execution_count": 53,
     "metadata": {},
     "output_type": "execute_result"
    }
   ],
   "source": [
    "# For statistics\n",
    "songs.cleaned_lyrics.str.len().sum()"
   ]
  },
  {
   "cell_type": "code",
   "execution_count": 45,
   "id": "0b850f6f-7525-4454-bd38-ffae39c96e43",
   "metadata": {},
   "outputs": [
    {
     "data": {
      "text/html": [
       "<div>\n",
       "<style scoped>\n",
       "    .dataframe tbody tr th:only-of-type {\n",
       "        vertical-align: middle;\n",
       "    }\n",
       "\n",
       "    .dataframe tbody tr th {\n",
       "        vertical-align: top;\n",
       "    }\n",
       "\n",
       "    .dataframe thead th {\n",
       "        text-align: right;\n",
       "    }\n",
       "</style>\n",
       "<table border=\"1\" class=\"dataframe\">\n",
       "  <thead>\n",
       "    <tr style=\"text-align: right;\">\n",
       "      <th></th>\n",
       "      <th>artist_name</th>\n",
       "      <th>song_url</th>\n",
       "      <th>song_name</th>\n",
       "      <th>cleaned_lyrics</th>\n",
       "    </tr>\n",
       "    <tr>\n",
       "      <th>artist_url</th>\n",
       "      <th></th>\n",
       "      <th></th>\n",
       "      <th></th>\n",
       "      <th></th>\n",
       "    </tr>\n",
       "  </thead>\n",
       "  <tbody>\n",
       "    <tr>\n",
       "      <th>/cnh100002.htm</th>\n",
       "      <td>1</td>\n",
       "      <td>633</td>\n",
       "      <td>316</td>\n",
       "      <td>518</td>\n",
       "    </tr>\n",
       "    <tr>\n",
       "      <th>/cnh100012.htm</th>\n",
       "      <td>1</td>\n",
       "      <td>343</td>\n",
       "      <td>245</td>\n",
       "      <td>318</td>\n",
       "    </tr>\n",
       "    <tr>\n",
       "      <th>/cnh100015.htm</th>\n",
       "      <td>1</td>\n",
       "      <td>217</td>\n",
       "      <td>149</td>\n",
       "      <td>198</td>\n",
       "    </tr>\n",
       "    <tr>\n",
       "      <th>/cnh100018.htm</th>\n",
       "      <td>1</td>\n",
       "      <td>392</td>\n",
       "      <td>260</td>\n",
       "      <td>313</td>\n",
       "    </tr>\n",
       "    <tr>\n",
       "      <th>/cnh100019.htm</th>\n",
       "      <td>1</td>\n",
       "      <td>536</td>\n",
       "      <td>213</td>\n",
       "      <td>367</td>\n",
       "    </tr>\n",
       "    <tr>\n",
       "      <th>...</th>\n",
       "      <td>...</td>\n",
       "      <td>...</td>\n",
       "      <td>...</td>\n",
       "      <td>...</td>\n",
       "    </tr>\n",
       "    <tr>\n",
       "      <th>/cnh246009.htm</th>\n",
       "      <td>1</td>\n",
       "      <td>1</td>\n",
       "      <td>1</td>\n",
       "      <td>1</td>\n",
       "    </tr>\n",
       "    <tr>\n",
       "      <th>/cnh246244.htm</th>\n",
       "      <td>1</td>\n",
       "      <td>2</td>\n",
       "      <td>2</td>\n",
       "      <td>2</td>\n",
       "    </tr>\n",
       "    <tr>\n",
       "      <th>/cnh246398.htm</th>\n",
       "      <td>1</td>\n",
       "      <td>3</td>\n",
       "      <td>3</td>\n",
       "      <td>3</td>\n",
       "    </tr>\n",
       "    <tr>\n",
       "      <th>/cnh246958.htm</th>\n",
       "      <td>1</td>\n",
       "      <td>6</td>\n",
       "      <td>5</td>\n",
       "      <td>6</td>\n",
       "    </tr>\n",
       "    <tr>\n",
       "      <th>/cnh248391.htm</th>\n",
       "      <td>1</td>\n",
       "      <td>1</td>\n",
       "      <td>1</td>\n",
       "      <td>1</td>\n",
       "    </tr>\n",
       "  </tbody>\n",
       "</table>\n",
       "<p>231 rows × 4 columns</p>\n",
       "</div>"
      ],
      "text/plain": [
       "                artist_name  song_url  song_name  cleaned_lyrics\n",
       "artist_url                                                      \n",
       "/cnh100002.htm            1       633        316             518\n",
       "/cnh100012.htm            1       343        245             318\n",
       "/cnh100015.htm            1       217        149             198\n",
       "/cnh100018.htm            1       392        260             313\n",
       "/cnh100019.htm            1       536        213             367\n",
       "...                     ...       ...        ...             ...\n",
       "/cnh246009.htm            1         1          1               1\n",
       "/cnh246244.htm            1         2          2               2\n",
       "/cnh246398.htm            1         3          3               3\n",
       "/cnh246958.htm            1         6          5               6\n",
       "/cnh248391.htm            1         1          1               1\n",
       "\n",
       "[231 rows x 4 columns]"
      ]
     },
     "execution_count": 45,
     "metadata": {},
     "output_type": "execute_result"
    }
   ],
   "source": [
    "songs.groupby(\"artist_url\").nunique()"
   ]
  },
  {
   "cell_type": "code",
   "execution_count": null,
   "id": "e14de054-853c-46f8-b3ec-beabae93b526",
   "metadata": {},
   "outputs": [],
   "source": [
    "songs.groupby('cleaned_lyrics').nunique().sort_values(\"song_name\", ascending=False).head(30)"
   ]
  },
  {
   "cell_type": "code",
   "execution_count": 39,
   "id": "c2283353-1744-45da-8f53-928cb6e99f54",
   "metadata": {},
   "outputs": [
    {
     "data": {
      "text/plain": [
       "(39750, 5)"
      ]
     },
     "execution_count": 39,
     "metadata": {},
     "output_type": "execute_result"
    }
   ],
   "source": [
    "songs.shape"
   ]
  },
  {
   "cell_type": "code",
   "execution_count": null,
   "id": "69942a52-2625-44c0-99ce-2884be7ae5a1",
   "metadata": {},
   "outputs": [],
   "source": [
    "artists = songs[\"artist_name\"].unique()"
   ]
  },
  {
   "cell_type": "code",
   "execution_count": null,
   "id": "92bfc037-9862-4990-86e7-1899ae8ad17d",
   "metadata": {},
   "outputs": [],
   "source": [
    "results = []\n",
    "\n",
    "for a in artists:\n",
    "    query = f\"https://zh.wikipedia.org/w/api.php?action=opensearch&search={a}&limit=1&namespace=0&format=json\"\n",
    "    r = requests.get(query)\n",
    "    results.append(r)"
   ]
  },
  {
   "cell_type": "code",
   "execution_count": null,
   "id": "fb607289-d07f-4070-af38-c502c94ca4eb",
   "metadata": {},
   "outputs": [],
   "source": [
    "content = []\n",
    "for r in results:\n",
    "    content.append(r.content)"
   ]
  },
  {
   "cell_type": "code",
   "execution_count": null,
   "id": "43e6ec76-d737-4218-89b1-96942d8f3fab",
   "metadata": {},
   "outputs": [],
   "source": [
    "content"
   ]
  },
  {
   "cell_type": "code",
   "execution_count": null,
   "id": "e8e7eadf-4422-4124-8ead-2f2c71875aa2",
   "metadata": {},
   "outputs": [],
   "source": []
  }
 ],
 "metadata": {
  "kernelspec": {
   "display_name": "Python (adv2)",
   "language": "python",
   "name": "adv2"
  },
  "language_info": {
   "codemirror_mode": {
    "name": "ipython",
    "version": 3
   },
   "file_extension": ".py",
   "mimetype": "text/x-python",
   "name": "python",
   "nbconvert_exporter": "python",
   "pygments_lexer": "ipython3",
   "version": "3.8.13"
  }
 },
 "nbformat": 4,
 "nbformat_minor": 5
}
